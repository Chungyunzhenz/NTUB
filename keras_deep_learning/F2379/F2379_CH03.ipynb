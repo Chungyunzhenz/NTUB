{
  "cells": [
    {
      "cell_type": "markdown",
      "metadata": {
        "id": "z-mun7pHRcKm"
      },
      "source": [
        "#第3章：Keras 和 TensorFlow 簡介"
      ]
    },
    {
      "cell_type": "markdown",
      "metadata": {
        "id": "JfL-iLHlRcK8"
      },
      "source": [
        "##3-5 使用 TensorFlow 的第一步"
      ]
    },
    {
      "cell_type": "markdown",
      "metadata": {
        "id": "0US9lONwRcK9"
      },
      "source": [
        "###3-5-1 常數張量與變數"
      ]
    },
    {
      "cell_type": "markdown",
      "metadata": {
        "id": "cBWmphVdRcK_"
      },
      "source": [
        "####程式 3.1 創建完全由1或0組成的張量 "
      ]
    },
    {
      "cell_type": "code",
      "execution_count": 37,
      "metadata": {
        "colab": {
          "base_uri": "https://localhost:8080/"
        },
        "id": "JtEs2iqJRcLA",
        "outputId": "dff255ae-88be-4978-8a8e-7b30464867f2"
      },
      "outputs": [
        {
          "output_type": "stream",
          "name": "stdout",
          "text": [
            "tf.Tensor(\n",
            "[[1.]\n",
            " [1.]], shape=(2, 1), dtype=float32)\n",
            "tf.Tensor(\n",
            "[[0.]\n",
            " [0.]], shape=(2, 1), dtype=float32)\n"
          ]
        }
      ],
      "source": [
        "import tensorflow as tf\n",
        "x = tf.ones(shape=(2, 1))\n",
        "print(x)"
      ]
    },
    {
      "cell_type": "code",
      "execution_count": 2,
      "metadata": {
        "colab": {
          "base_uri": "https://localhost:8080/"
        },
        "id": "_DDSFKUZRcLD",
        "outputId": "281de799-2a01-477c-d49a-eb6302095fa4"
      },
      "outputs": [
        {
          "output_type": "stream",
          "name": "stdout",
          "text": [
            "tf.Tensor(\n",
            "[[0.]\n",
            " [0.]], shape=(2, 1), dtype=float32)\n"
          ]
        }
      ],
      "source": [
        "x = tf.zeros(shape=(2, 1))\n",
        "print(x)"
      ]
    },
    {
      "cell_type": "markdown",
      "metadata": {
        "id": "_sK2Yi3HRcLD"
      },
      "source": [
        "####程式 3.2 創建由亂數組成的張量"
      ]
    },
    {
      "cell_type": "code",
      "execution_count": 3,
      "metadata": {
        "colab": {
          "base_uri": "https://localhost:8080/"
        },
        "id": "2USkNv1eRcLF",
        "outputId": "1bbcff1e-cded-4ad1-e658-a0dcf735e83c"
      },
      "outputs": [
        {
          "output_type": "stream",
          "name": "stdout",
          "text": [
            "tf.Tensor(\n",
            "[[-0.33111152]\n",
            " [ 0.81215024]\n",
            " [-0.8358592 ]], shape=(3, 1), dtype=float32)\n"
          ]
        }
      ],
      "source": [
        "x = tf.random.normal(shape=(3, 1), mean=0., stddev=1.)\n",
        "print(x)"
      ]
    },
    {
      "cell_type": "code",
      "execution_count": 4,
      "metadata": {
        "colab": {
          "base_uri": "https://localhost:8080/"
        },
        "id": "QjkWgAFpRcLF",
        "outputId": "405abc6a-0042-454b-c0f7-f6d24ec2c914"
      },
      "outputs": [
        {
          "output_type": "stream",
          "name": "stdout",
          "text": [
            "tf.Tensor(\n",
            "[[0.56422746]\n",
            " [0.6750696 ]\n",
            " [0.40051532]], shape=(3, 1), dtype=float32)\n"
          ]
        }
      ],
      "source": [
        "x = tf.random.uniform(shape=(3, 1), minval=0., maxval=1.)\n",
        "print(x)"
      ]
    },
    {
      "cell_type": "markdown",
      "metadata": {
        "id": "2jX6-YwWRcLG"
      },
      "source": [
        "####程式 3.3 NumPy 陣列可接受指派新的值"
      ]
    },
    {
      "cell_type": "code",
      "execution_count": 5,
      "metadata": {
        "id": "_FgKb_HgRcLH"
      },
      "outputs": [],
      "source": [
        "import numpy as np\n",
        "x = np.ones(shape=(2, 2))\n",
        "x[0, 0] = 0."
      ]
    },
    {
      "cell_type": "markdown",
      "metadata": {
        "id": "Erwf78HvRcLI"
      },
      "source": [
        "####程式 3.5 創建 Variable 物件"
      ]
    },
    {
      "cell_type": "code",
      "execution_count": 6,
      "metadata": {
        "colab": {
          "base_uri": "https://localhost:8080/"
        },
        "id": "nvaWDKvURcLI",
        "outputId": "b42b70d6-f697-41cd-b96a-f9f6874ee6cd"
      },
      "outputs": [
        {
          "output_type": "stream",
          "name": "stdout",
          "text": [
            "<tf.Variable 'Variable:0' shape=(3, 1) dtype=float32, numpy=\n",
            "array([[-0.24299152],\n",
            "       [-0.48569515],\n",
            "       [-0.19733116]], dtype=float32)>\n"
          ]
        }
      ],
      "source": [
        "v = tf.Variable(initial_value=tf.random.normal(shape=(3, 1)))\n",
        "print(v)"
      ]
    },
    {
      "cell_type": "markdown",
      "metadata": {
        "id": "U0DJRfhSRcLJ"
      },
      "source": [
        "####程式 3.6 為 Variable 物件指派一個值"
      ]
    },
    {
      "cell_type": "code",
      "execution_count": 7,
      "metadata": {
        "colab": {
          "base_uri": "https://localhost:8080/"
        },
        "id": "fEBHaxfgRcLK",
        "outputId": "7f130db5-e502-4f50-aaa3-459410a2fb4f"
      },
      "outputs": [
        {
          "output_type": "execute_result",
          "data": {
            "text/plain": [
              "<tf.Variable 'UnreadVariable' shape=(3, 1) dtype=float32, numpy=\n",
              "array([[1.],\n",
              "       [1.],\n",
              "       [1.]], dtype=float32)>"
            ]
          },
          "metadata": {},
          "execution_count": 7
        }
      ],
      "source": [
        "v.assign(tf.ones((3, 1)))"
      ]
    },
    {
      "cell_type": "markdown",
      "metadata": {
        "id": "7l3SqQKBRcLM"
      },
      "source": [
        "####程式 3.7 對 Variable 物件進行局部修改"
      ]
    },
    {
      "cell_type": "code",
      "execution_count": 8,
      "metadata": {
        "colab": {
          "base_uri": "https://localhost:8080/"
        },
        "id": "660-KJ0ARcLM",
        "outputId": "9a1db5c8-5e85-493a-a8db-dd899af3c805"
      },
      "outputs": [
        {
          "output_type": "execute_result",
          "data": {
            "text/plain": [
              "<tf.Variable 'UnreadVariable' shape=(3, 1) dtype=float32, numpy=\n",
              "array([[3.],\n",
              "       [1.],\n",
              "       [1.]], dtype=float32)>"
            ]
          },
          "metadata": {},
          "execution_count": 8
        }
      ],
      "source": [
        "v[0, 0].assign(3.)"
      ]
    },
    {
      "cell_type": "markdown",
      "metadata": {
        "id": "5Q80igmYRcLN"
      },
      "source": [
        "#### 程式 3.8 使用 assign_add() 函式"
      ]
    },
    {
      "cell_type": "code",
      "execution_count": 9,
      "metadata": {
        "colab": {
          "base_uri": "https://localhost:8080/"
        },
        "id": "AOrJ4Cf-RcLN",
        "outputId": "5989aec1-3ee0-4e0f-f780-03f08e3ef2dc"
      },
      "outputs": [
        {
          "output_type": "execute_result",
          "data": {
            "text/plain": [
              "<tf.Variable 'UnreadVariable' shape=(3, 1) dtype=float32, numpy=\n",
              "array([[4.],\n",
              "       [2.],\n",
              "       [2.]], dtype=float32)>"
            ]
          },
          "metadata": {},
          "execution_count": 9
        }
      ],
      "source": [
        "v.assign_add(tf.ones((3, 1)))"
      ]
    },
    {
      "cell_type": "markdown",
      "metadata": {
        "id": "A4CdmDWkRcLP"
      },
      "source": [
        "###3-5-2 張量操作：在 TensorFlow 中進行數學運算"
      ]
    },
    {
      "cell_type": "markdown",
      "metadata": {
        "id": "9BnZP9X2RcLP"
      },
      "source": [
        "####程式 3.9 一些基本的數學操作"
      ]
    },
    {
      "cell_type": "code",
      "execution_count": 10,
      "metadata": {
        "id": "yhE2KMLVRcLQ"
      },
      "outputs": [],
      "source": [
        "a = tf.ones((2, 2))\n",
        "b = tf.square(a)\n",
        "c = tf.sqrt(a)\n",
        "d = b + c\n",
        "e = tf.matmul(a, b)\n",
        "e *= d"
      ]
    },
    {
      "cell_type": "markdown",
      "metadata": {
        "id": "dKFukSNVRcLQ"
      },
      "source": [
        "###3-5-3 GradientTape API 的進一步說明"
      ]
    },
    {
      "cell_type": "markdown",
      "metadata": {
        "id": "jvmVlZuvRcLR"
      },
      "source": [
        "####程式 3.10 使用 GradientTape"
      ]
    },
    {
      "cell_type": "code",
      "execution_count": 11,
      "metadata": {
        "id": "PNE_cFDVRcLR"
      },
      "outputs": [],
      "source": [
        "input_var = tf.Variable(initial_value=3.)\n",
        "with tf.GradientTape() as tape:\n",
        "   result = tf.square(input_var)\n",
        "gradient = tape.gradient(result, input_var)"
      ]
    },
    {
      "cell_type": "markdown",
      "metadata": {
        "id": "KowiGVN0RcLS"
      },
      "source": [
        "####程式 3.11 在 GradientTape 中使用常數張量為輸入"
      ]
    },
    {
      "cell_type": "code",
      "execution_count": 12,
      "metadata": {
        "id": "8wPWkOtxRcLS"
      },
      "outputs": [],
      "source": [
        "input_const = tf.constant(3.)\n",
        "with tf.GradientTape() as tape:\n",
        "   tape.watch(input_const)\n",
        "   result = tf.square(input_const)\n",
        "gradient = tape.gradient(result, input_const)\n",
        "print(gradient)"
      ]
    },
    {
      "cell_type": "markdown",
      "metadata": {
        "id": "byL_wesMRcLT"
      },
      "source": [
        "####程式 3.12 利用巢狀梯度磁帶計算二階梯度"
      ]
    },
    {
      "cell_type": "code",
      "execution_count": 13,
      "metadata": {
        "id": "JcHEwcwdRcLT"
      },
      "outputs": [],
      "source": [
        "time = tf.Variable(0.)\n",
        "with tf.GradientTape() as outer_tape:\n",
        "    with tf.GradientTape() as inner_tape:\n",
        "        position =  4.9 * time ** 2\n",
        "    speed = inner_tape.gradient(position, time)\n",
        "acceleration = outer_tape.gradient(speed, time)"
      ]
    },
    {
      "cell_type": "markdown",
      "metadata": {
        "id": "huv1EU2bRcLU"
      },
      "source": [
        "###3-5-4 端到端的範例：使用 TensorFlow 建立線性分類器"
      ]
    },
    {
      "cell_type": "markdown",
      "metadata": {
        "id": "wWCu8GDHRcLU"
      },
      "source": [
        "####程式 3.13 在平面上生成兩個類別的隨機資料點\n",
        "\n"
      ]
    },
    {
      "cell_type": "code",
      "execution_count": 14,
      "metadata": {
        "id": "DcnVab3mRcLU"
      },
      "outputs": [],
      "source": [
        "num_samples_per_class = 1000\n",
        "negative_samples = np.random.multivariate_normal(\n",
        "    mean=[0, 3],\n",
        "    cov=[[1, 0.5],[0.5, 1]],\n",
        "    size=num_samples_per_class)\n",
        "positive_samples = np.random.multivariate_normal(\n",
        "    mean=[3, 0],\n",
        "    cov=[[1, 0.5],[0.5, 1]],\n",
        "    size=num_samples_per_class)"
      ]
    },
    {
      "cell_type": "markdown",
      "metadata": {
        "id": "aUoCTMKRRcLW"
      },
      "source": [
        "####程式 3.14 將資料點堆疊成shape為(2000, 2)的新陣列"
      ]
    },
    {
      "cell_type": "code",
      "execution_count": 15,
      "metadata": {
        "id": "unEqmTn0RcLW"
      },
      "outputs": [],
      "source": [
        "inputs = np.vstack((negative_samples, positive_samples)).astype(np.float32)"
      ]
    },
    {
      "cell_type": "markdown",
      "metadata": {
        "id": "X1ytVXhbRcLW"
      },
      "source": [
        "####程式 3.15 產生對應的目標值 (0或1)"
      ]
    },
    {
      "cell_type": "code",
      "execution_count": 16,
      "metadata": {
        "id": "kMbbq67kRcLZ"
      },
      "outputs": [],
      "source": [
        "targets = np.vstack((np.zeros((num_samples_per_class, 1), dtype=\"float32\"),\n",
        "            np.ones((num_samples_per_class, 1), dtype=\"float32\")))"
      ]
    },
    {
      "cell_type": "markdown",
      "metadata": {
        "id": "tWlvOUe2RcLa"
      },
      "source": [
        "####程式 3.16 繪製兩個類別的資料點"
      ]
    },
    {
      "cell_type": "code",
      "execution_count": 17,
      "metadata": {
        "colab": {
          "base_uri": "https://localhost:8080/",
          "height": 265
        },
        "id": "LOkTKCvSRcLa",
        "outputId": "024b8708-5932-42db-9f32-5af7a295d32a"
      },
      "outputs": [
        {
          "output_type": "display_data",
          "data": {
            "text/plain": [
              "<Figure size 432x288 with 1 Axes>"
            ],
            "image/png": "[encoded data removed]"
          },
          "metadata": {
            "needs_background": "light"
          }
        }
      ],
      "source": [
        "import matplotlib.pyplot as plt\n",
        "plt.scatter(inputs[:, 0], inputs[:, 1], c=targets[:, 0])\n",
        "plt.show()"
      ]
    },
    {
      "cell_type": "markdown",
      "metadata": {
        "id": "C6bexFvcRcLb"
      },
      "source": [
        "#### 程式 3.17 創建分類器中的變數"
      ]
    },
    {
      "cell_type": "code",
      "execution_count": 18,
      "metadata": {
        "id": "aZvIbggNRcLb"
      },
      "outputs": [],
      "source": [
        "input_dim = 2\n",
        "output_dim = 1\n",
        "W = tf.Variable(initial_value=tf.random.uniform(shape=(input_dim, output_dim)))\n",
        "b = tf.Variable(initial_value=tf.zeros(shape=(output_dim,)))"
      ]
    },
    {
      "cell_type": "markdown",
      "metadata": {
        "id": "2_kAxBcwRcLc"
      },
      "source": [
        "####程式 3.18 正向傳播函式"
      ]
    },
    {
      "cell_type": "code",
      "execution_count": 19,
      "metadata": {
        "id": "n_AHcHckRcLc"
      },
      "outputs": [],
      "source": [
        "def model(inputs):\n",
        "    return tf.matmul(inputs, W) + b"
      ]
    },
    {
      "cell_type": "markdown",
      "metadata": {
        "id": "xsggIgK5RcLc"
      },
      "source": [
        "####程式 3.19 均方誤差損失函數"
      ]
    },
    {
      "cell_type": "code",
      "execution_count": 20,
      "metadata": {
        "id": "ca3nknR6RcLc"
      },
      "outputs": [],
      "source": [
        "def square_loss(targets, predictions):\n",
        "    per_sample_losses = tf.square(targets - predictions)\n",
        "    return tf.reduce_mean(per_sample_losses)"
      ]
    },
    {
      "cell_type": "markdown",
      "metadata": {
        "id": "yq7oZoQVRcLd"
      },
      "source": [
        "####程式 3.20 訓練函式"
      ]
    },
    {
      "cell_type": "code",
      "execution_count": 21,
      "metadata": {
        "id": "ZxnnsZ6ARcLd"
      },
      "outputs": [],
      "source": [
        "learning_rate = 0.1\n",
        "\n",
        "def training_step(inputs, targets):\n",
        "    with tf.GradientTape() as tape:\n",
        "        predictions = model(inputs)\n",
        "        loss = square_loss(targets, predictions)\n",
        "    grad_loss_wrt_W, grad_loss_wrt_b = tape.gradient(loss, [W, b])\n",
        "    W.assign_sub(grad_loss_wrt_W * learning_rate)\n",
        "    b.assign_sub(grad_loss_wrt_b * learning_rate)\n",
        "    return loss"
      ]
    },
    {
      "cell_type": "markdown",
      "metadata": {
        "id": "Gp3kXrpERcLd"
      },
      "source": [
        "####程式 3.21 批次訓練迴圈"
      ]
    },
    {
      "cell_type": "code",
      "execution_count": 22,
      "metadata": {
        "colab": {
          "base_uri": "https://localhost:8080/"
        },
        "id": "PSR6enZlRcLe",
        "outputId": "2b1a15d5-b6f4-4ece-9fd4-764e4119098e"
      },
      "outputs": [
        {
          "output_type": "stream",
          "name": "stdout",
          "text": [
            "Loss at step 0: 4.7725\n",
            "Loss at step 1: 0.6526\n",
            "Loss at step 2: 0.2074\n",
            "Loss at step 3: 0.1462\n",
            "Loss at step 4: 0.1304\n",
            "Loss at step 5: 0.1207\n",
            "Loss at step 6: 0.1123\n",
            "Loss at step 7: 0.1047\n",
            "Loss at step 8: 0.0977\n",
            "Loss at step 9: 0.0914\n",
            "Loss at step 10: 0.0856\n",
            "Loss at step 11: 0.0803\n",
            "Loss at step 12: 0.0754\n",
            "Loss at step 13: 0.0710\n",
            "Loss at step 14: 0.0670\n",
            "Loss at step 15: 0.0633\n",
            "Loss at step 16: 0.0599\n",
            "Loss at step 17: 0.0568\n",
            "Loss at step 18: 0.0540\n",
            "Loss at step 19: 0.0514\n",
            "Loss at step 20: 0.0490\n",
            "Loss at step 21: 0.0469\n",
            "Loss at step 22: 0.0449\n",
            "Loss at step 23: 0.0431\n",
            "Loss at step 24: 0.0415\n",
            "Loss at step 25: 0.0400\n",
            "Loss at step 26: 0.0386\n",
            "Loss at step 27: 0.0373\n",
            "Loss at step 28: 0.0362\n",
            "Loss at step 29: 0.0351\n",
            "Loss at step 30: 0.0342\n",
            "Loss at step 31: 0.0333\n",
            "Loss at step 32: 0.0325\n",
            "Loss at step 33: 0.0317\n",
            "Loss at step 34: 0.0311\n",
            "Loss at step 35: 0.0305\n",
            "Loss at step 36: 0.0299\n",
            "Loss at step 37: 0.0294\n",
            "Loss at step 38: 0.0289\n",
            "Loss at step 39: 0.0285\n"
          ]
        }
      ],
      "source": [
        "for step in range(40):\n",
        "    loss = training_step(inputs, targets)\n",
        "    print(f\"Loss at step {step}: {loss:.4f}\")"
      ]
    },
    {
      "cell_type": "code",
      "execution_count": 23,
      "metadata": {
        "colab": {
          "base_uri": "https://localhost:8080/",
          "height": 265
        },
        "id": "AUj5yNRTRcLe",
        "outputId": "64d6356e-727d-4b79-c947-40ee9194d448"
      },
      "outputs": [
        {
          "output_type": "display_data",
          "data": {
            "text/plain": [
              "<Figure size 432x288 with 1 Axes>"
            ],
            "image/png": "[encoded data removed]"
          },
          "metadata": {
            "needs_background": "light"
          }
        }
      ],
      "source": [
        "predictions = model(inputs)\n",
        "plt.scatter(inputs[:, 0], inputs[:, 1], c=predictions[:, 0] > 0.5)\n",
        "plt.show()"
      ]
    },
    {
      "cell_type": "code",
      "execution_count": 24,
      "metadata": {
        "colab": {
          "base_uri": "https://localhost:8080/",
          "height": 282
        },
        "id": "CZ7-HhLiRcLe",
        "outputId": "fabc58fe-92fa-4d87-d397-d22696b5f904"
      },
      "outputs": [
        {
          "output_type": "execute_result",
          "data": {
            "text/plain": [
              "<matplotlib.collections.PathCollection at 0x7f509bbf90d0>"
            ]
          },
          "metadata": {},
          "execution_count": 24
        },
        {
          "output_type": "display_data",
          "data": {
            "text/plain": [
              "<Figure size 432x288 with 1 Axes>"
            ],
            "image/png": "[encoded data removed]"
          },
          "metadata": {
            "needs_background": "light"
          }
        }
      ],
      "source": [
        "x = np.linspace(-1, 4, 100)\n",
        "y = - W[0] /  W[1] * x + (0.5 - b) / W[1]\n",
        "plt.plot(x, y, \"-r\")\n",
        "plt.scatter(inputs[:, 0], inputs[:, 1], c=predictions[:, 0] > 0.5)"
      ]
    },
    {
      "cell_type": "markdown",
      "metadata": {
        "id": "xaMUjviQRcLf"
      },
      "source": [
        "##3-6 剖析神經網路：了解 Keras API 的核心"
      ]
    },
    {
      "cell_type": "markdown",
      "metadata": {
        "id": "mKujIerTRcLf"
      },
      "source": [
        "###3-6-1 Layer (層）：深度學習的基石"
      ]
    },
    {
      "cell_type": "markdown",
      "metadata": {
        "id": "zwO5QnSrRcLg"
      },
      "source": [
        "####程式 3.22 使用 Layer 類別來實作 Dense 層"
      ]
    },
    {
      "cell_type": "code",
      "execution_count": 25,
      "metadata": {
        "id": "OFtJi_LXRcLg"
      },
      "outputs": [],
      "source": [
        "from tensorflow import keras\n",
        "\n",
        "class SimpleDense(keras.layers.Layer):\n",
        "\n",
        "    def __init__(self, units, activation=None):\n",
        "        super().__init__()\n",
        "        self.units = units\n",
        "        self.activation = activation\n",
        "\n",
        "    def build(self, input_shape):\n",
        "        input_dim = input_shape[-1]\n",
        "        self.W = self.add_weight(shape=(input_dim, self.units),\n",
        "                                 initializer=\"random_normal\")\n",
        "        self.b = self.add_weight(shape=(self.units,),\n",
        "                                 initializer=\"zeros\")\n",
        "\n",
        "    def call(self, inputs):\n",
        "        y = tf.matmul(inputs, self.W) + self.b\n",
        "        if self.activation is not None:\n",
        "            y = self.activation(y)\n",
        "        return y"
      ]
    },
    {
      "cell_type": "code",
      "execution_count": 26,
      "metadata": {
        "colab": {
          "base_uri": "https://localhost:8080/"
        },
        "id": "r5-7s-ZXRcLh",
        "outputId": "2ec5b1a5-f0c8-471f-bce6-d64247d5147c"
      },
      "outputs": [
        {
          "output_type": "stream",
          "name": "stdout",
          "text": [
            "(2, 32)\n"
          ]
        }
      ],
      "source": [
        "my_dense = SimpleDense(units=32, activation=tf.nn.relu)\n",
        "input_tensor = tf.ones(shape=(2, 784))\n",
        "output_tensor = my_dense(input_tensor)\n",
        "print(output_tensor.shape)"
      ]
    },
    {
      "cell_type": "code",
      "execution_count": 27,
      "metadata": {
        "id": "WPCylviMRcLi"
      },
      "outputs": [],
      "source": [
        "from tensorflow.keras import layers\n",
        "layer = layers.Dense(32, activation=\"relu\")"
      ]
    },
    {
      "cell_type": "code",
      "execution_count": 28,
      "metadata": {
        "id": "DHWWkJrvRcLj"
      },
      "outputs": [],
      "source": [
        "from tensorflow.keras import models\n",
        "from tensorflow.keras import layers\n",
        "model = models.Sequential([\n",
        "    layers.Dense(32, activation=\"relu\"),\n",
        "    layers.Dense(32)\n",
        "])"
      ]
    },
    {
      "cell_type": "code",
      "execution_count": 29,
      "metadata": {
        "id": "cfbbPVFdRcLj"
      },
      "outputs": [],
      "source": [
        "model = keras.Sequential([\n",
        "    SimpleDense(32, activation=\"relu\"),\n",
        "    SimpleDense(64, activation=\"relu\"),\n",
        "    SimpleDense(32, activation=\"relu\"),\n",
        "    SimpleDense(10, activation=\"softmax\")\n",
        "])"
      ]
    },
    {
      "cell_type": "markdown",
      "metadata": {
        "id": "kFerOJrLRcLj"
      },
      "source": [
        "###3-6-3 編譯 (compile) 階段：定義學習的過程"
      ]
    },
    {
      "cell_type": "code",
      "execution_count": 30,
      "metadata": {
        "id": "mhckO3hWRcLk"
      },
      "outputs": [],
      "source": [
        "model = keras.Sequential([keras.layers.Dense(1)])\n",
        "model.compile(optimizer=\"rmsprop\",\n",
        "              loss=\"mean_squared_error\",\n",
        "              metrics=[\"accuracy\"])"
      ]
    },
    {
      "cell_type": "code",
      "execution_count": 31,
      "metadata": {
        "id": "iyfXuurzRcLk"
      },
      "outputs": [],
      "source": [
        "model.compile(optimizer=keras.optimizers.RMSprop(),\n",
        "       loss=keras.losses.MeanSquaredError(),\n",
        "       metrics=[keras.metrics.BinaryAccuracy()])"
      ]
    },
    {
      "cell_type": "markdown",
      "metadata": {
        "id": "8chvDCtcRcLk"
      },
      "source": [
        "###3-6-5 搞懂 fit() 方法"
      ]
    },
    {
      "cell_type": "markdown",
      "metadata": {
        "id": "r3rci5OqRcLk"
      },
      "source": [
        "####程式 3.23 透過 NumPy 資料來呼叫 fit()"
      ]
    },
    {
      "cell_type": "code",
      "execution_count": 32,
      "metadata": {
        "colab": {
          "base_uri": "https://localhost:8080/"
        },
        "id": "zAhJwa_5RcLk",
        "outputId": "d1074adb-c3f5-48a6-b638-454a9a8477bd"
      },
      "outputs": [
        {
          "output_type": "stream",
          "name": "stdout",
          "text": [
            "Epoch 1/5\n",
            "16/16 [==============================] - 0s 2ms/step - loss: 7.2074 - binary_accuracy: 0.4440\n",
            "Epoch 2/5\n",
            "16/16 [==============================] - 0s 2ms/step - loss: 6.8288 - binary_accuracy: 0.4375\n",
            "Epoch 3/5\n",
            "16/16 [==============================] - 0s 2ms/step - loss: 6.5115 - binary_accuracy: 0.4365\n",
            "Epoch 4/5\n",
            "16/16 [==============================] - 0s 2ms/step - loss: 6.2126 - binary_accuracy: 0.4345\n",
            "Epoch 5/5\n",
            "16/16 [==============================] - 0s 2ms/step - loss: 5.9221 - binary_accuracy: 0.4290\n"
          ]
        }
      ],
      "source": [
        "history = model.fit(\n",
        "    inputs,\n",
        "    targets,\n",
        "    epochs=5,\n",
        "    batch_size=128\n",
        ")"
      ]
    },
    {
      "cell_type": "code",
      "execution_count": 33,
      "metadata": {
        "colab": {
          "base_uri": "https://localhost:8080/"
        },
        "id": "Tn_NLXVHRcLl",
        "outputId": "fa60506d-e379-4c92-8a69-fad12537a492"
      },
      "outputs": [
        {
          "output_type": "execute_result",
          "data": {
            "text/plain": [
              "{'binary_accuracy': [0.4440000057220459,\n",
              "  0.4375,\n",
              "  0.43650001287460327,\n",
              "  0.4345000088214874,\n",
              "  0.42899999022483826],\n",
              " 'loss': [7.207419395446777,\n",
              "  6.828816890716553,\n",
              "  6.511517524719238,\n",
              "  6.212619781494141,\n",
              "  5.922142028808594]}"
            ]
          },
          "metadata": {},
          "execution_count": 33
        }
      ],
      "source": [
        "history.history"
      ]
    },
    {
      "cell_type": "markdown",
      "metadata": {
        "id": "QoCoHd7ARcLl"
      },
      "source": [
        "###3-6-6 用驗證資料來監控損失值和指標"
      ]
    },
    {
      "cell_type": "markdown",
      "metadata": {
        "id": "LW7Qef9ERcLl"
      },
      "source": [
        "####程式 3.24 使用 vailidation_data 參數"
      ]
    },
    {
      "cell_type": "code",
      "execution_count": 34,
      "metadata": {
        "colab": {
          "base_uri": "https://localhost:8080/"
        },
        "id": "Xdq6wH4wRcLl",
        "outputId": "676fc68a-ba9a-488e-e60a-73ee2397d7a5"
      },
      "outputs": [
        {
          "output_type": "stream",
          "name": "stdout",
          "text": [
            "Epoch 1/5\n",
            "88/88 [==============================] - 1s 4ms/step - loss: 0.1231 - binary_accuracy: 0.9514 - val_loss: 0.1984 - val_binary_accuracy: 0.8217\n",
            "Epoch 2/5\n",
            "88/88 [==============================] - 0s 2ms/step - loss: 0.0659 - binary_accuracy: 0.9671 - val_loss: 0.1114 - val_binary_accuracy: 0.8533\n",
            "Epoch 3/5\n",
            "88/88 [==============================] - 0s 2ms/step - loss: 0.0694 - binary_accuracy: 0.9657 - val_loss: 0.0297 - val_binary_accuracy: 0.9933\n",
            "Epoch 4/5\n",
            "88/88 [==============================] - 0s 2ms/step - loss: 0.0738 - binary_accuracy: 0.9607 - val_loss: 0.0266 - val_binary_accuracy: 0.9950\n",
            "Epoch 5/5\n",
            "88/88 [==============================] - 0s 2ms/step - loss: 0.0699 - binary_accuracy: 0.9586 - val_loss: 0.0375 - val_binary_accuracy: 0.9950\n"
          ]
        },
        {
          "output_type": "execute_result",
          "data": {
            "text/plain": [
              "<keras.callbacks.History at 0x7f509b9dbf50>"
            ]
          },
          "metadata": {},
          "execution_count": 34
        }
      ],
      "source": [
        "model = keras.Sequential([keras.layers.Dense(1)])\n",
        "model.compile(optimizer=keras.optimizers.RMSprop(learning_rate=0.1),\n",
        "       loss=keras.losses.MeanSquaredError(),\n",
        "       metrics=[keras.metrics.BinaryAccuracy()])\n",
        "\n",
        "indices_permutation = np.random.permutation(len(inputs))\n",
        "shuffled_inputs = inputs[indices_permutation]\n",
        "shuffled_targets = targets[indices_permutation]\n",
        "\n",
        "num_validation_samples = int(0.3 * len(inputs))\n",
        "val_inputs = shuffled_inputs[:num_validation_samples]\n",
        "val_targets = shuffled_targets[:num_validation_samples]\n",
        "training_inputs = shuffled_inputs[num_validation_samples:]\n",
        "training_targets = shuffled_targets[num_validation_samples:]\n",
        "model.fit(\n",
        "    training_inputs,\n",
        "    training_targets,\n",
        "    epochs=5,\n",
        "    batch_size=16,\n",
        "    validation_data=(val_inputs, val_targets)\n",
        ")"
      ]
    },
    {
      "cell_type": "markdown",
      "metadata": {
        "id": "AH4i_MlrRcLl"
      },
      "source": [
        "###3-6-7 推論 (Inference) 階段：使用訓練好的模型來預測"
      ]
    },
    {
      "cell_type": "code",
      "execution_count": 35,
      "metadata": {
        "colab": {
          "base_uri": "https://localhost:8080/"
        },
        "id": "8gRNboQeRcLl",
        "outputId": "a08a808b-762f-4b17-8d0b-faee5ca0f7d3"
      },
      "outputs": [
        {
          "output_type": "stream",
          "name": "stdout",
          "text": [
            "[[ 1.0976673 ]\n",
            " [ 1.0256159 ]\n",
            " [ 0.1291978 ]\n",
            " [ 1.227934  ]\n",
            " [ 1.1871257 ]\n",
            " [ 1.018375  ]\n",
            " [ 0.9371755 ]\n",
            " [ 0.27434087]\n",
            " [-0.22804525]\n",
            " [-0.16510752]]\n"
          ]
        }
      ],
      "source": [
        "predictions = model.predict(val_inputs, batch_size=128)\n",
        "print(predictions[:10])"
      ]
    }
  ],
  "metadata": {
    "colab": {
      "collapsed_sections": [],
      "name": "F2379_CH03.ipynb",
      "provenance": [],
      "toc_visible": true
    },
    "kernelspec": {
      "display_name": "Python 3",
      "language": "python",
      "name": "python3"
    },
    "language_info": {
      "codemirror_mode": {
        "name": "ipython",
        "version": 3
      },
      "file_extension": ".py",
      "mimetype": "text/x-python",
      "name": "python",
      "nbconvert_exporter": "python",
      "pygments_lexer": "ipython3",
      "version": "3.7.0"
    }
  },
  "nbformat": 4,
  "nbformat_minor": 0
}